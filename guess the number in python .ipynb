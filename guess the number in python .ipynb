{
 "cells": [
  {
   "cell_type": "code",
   "execution_count": 2,
   "metadata": {},
   "outputs": [
    {
     "name": "stdout",
     "output_type": "stream",
     "text": [
      "i have a number in my mind. can you guess it?\n",
      "enter the number you guess: 3\n",
      "yes youre right\n"
     ]
    }
   ],
   "source": [
    "mynum = 3\n",
    "\n",
    "print(\"i have a number in my mind. can you guess it?\")\n",
    "usernum = int(input(\"enter the number you guess: \"))\n",
    "\n",
    "if (mynum == usernum):\n",
    "    print(\"yes youre right\")\n",
    "    \n",
    "elif (mynum > usernum):\n",
    "    print(\"my number is greater than you entered\")\n",
    "    \n",
    "else:\n",
    "    print(\"my number is smaller than the number you entered\")"
   ]
  },
  {
   "cell_type": "code",
   "execution_count": null,
   "metadata": {},
   "outputs": [],
   "source": []
  }
 ],
 "metadata": {
  "kernelspec": {
   "display_name": "Python 3",
   "language": "python",
   "name": "python3"
  },
  "language_info": {
   "codemirror_mode": {
    "name": "ipython",
    "version": 3
   },
   "file_extension": ".py",
   "mimetype": "text/x-python",
   "name": "python",
   "nbconvert_exporter": "python",
   "pygments_lexer": "ipython3",
   "version": "3.7.3"
  }
 },
 "nbformat": 4,
 "nbformat_minor": 2
}
